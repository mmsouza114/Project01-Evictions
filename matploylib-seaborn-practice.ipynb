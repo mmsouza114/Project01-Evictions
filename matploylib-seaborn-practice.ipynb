{
 "cells": [
  {
   "cell_type": "markdown",
   "id": "62923450",
   "metadata": {},
   "source": [
    "\n",
    "# Perform Exploratory Analysis & Visualizations using Matploylib & Seaborn"
   ]
  },
  {
   "cell_type": "code",
   "execution_count": 72,
   "id": "c97852d8",
   "metadata": {},
   "outputs": [],
   "source": [
    "import pandas as pd\n",
    "import matplotlib.pyplot as plt\n",
    "import seaborn as sns"
   ]
  },
  {
   "cell_type": "markdown",
   "id": "83280643",
   "metadata": {},
   "source": [
    "## Some questions I want to look into:\n",
    "- What year had the highest rate of evictions?\n",
    "- Which borough was the most effected?\n",
    "- Are commercial or residential properties most effected?\n",
    "- How many evictions were ejectments(An ejectment is against a person who has no legal right to occupy property)?\n",
    "- Which are the to 10 post codes that have the most evictions?"
   ]
  },
  {
   "cell_type": "code",
   "execution_count": 73,
   "id": "8464efa1",
   "metadata": {
    "collapsed": true
   },
   "outputs": [
    {
     "ename": "NameError",
     "evalue": "name 'df_subset' is not defined",
     "output_type": "error",
     "traceback": [
      "\u001b[0;31m---------------------------------------------------------------------------\u001b[0m",
      "\u001b[0;31mNameError\u001b[0m                                 Traceback (most recent call last)",
      "Input \u001b[0;32mIn [73]\u001b[0m, in \u001b[0;36m<cell line: 1>\u001b[0;34m()\u001b[0m\n\u001b[0;32m----> 1\u001b[0m \u001b[43mdf_subset\u001b[49m\u001b[38;5;241m.\u001b[39mExecuted_Date\u001b[38;5;241m.\u001b[39mvalue_counts()\u001b[38;5;241m.\u001b[39mhead()\n",
      "\u001b[0;31mNameError\u001b[0m: name 'df_subset' is not defined"
     ]
    }
   ],
   "source": [
    "df_subset.Executed_Date.value_counts().head() "
   ]
  },
  {
   "cell_type": "code",
   "execution_count": null,
   "id": "e7a7fac6",
   "metadata": {},
   "outputs": [],
   "source": [
    "#store year in own column\n",
    "df_subset['Year'] = df_subset['Executed_Date'].dt.year\n",
    "\n",
    "\n"
   ]
  },
  {
   "cell_type": "code",
   "execution_count": null,
   "id": "0729e712",
   "metadata": {
    "scrolled": true
   },
   "outputs": [],
   "source": [
    "year = df_subset.Year.value_counts()\n",
    "pd.DataFrame(year)"
   ]
  },
  {
   "cell_type": "code",
   "execution_count": null,
   "id": "90989e64",
   "metadata": {},
   "outputs": [],
   "source": [
    "#store months in own column\n",
    "df_subset['Month'] = df_subset['Executed_Date'].dt.month_name()"
   ]
  },
  {
   "cell_type": "code",
   "execution_count": null,
   "id": "375aad66",
   "metadata": {},
   "outputs": [],
   "source": [
    "month = df_subset.Month.value_counts()\n",
    "month"
   ]
  },
  {
   "cell_type": "code",
   "execution_count": null,
   "id": "b1729519",
   "metadata": {},
   "outputs": [],
   "source": [
    "df_subset"
   ]
  },
  {
   "cell_type": "code",
   "execution_count": null,
   "id": "934cdf03",
   "metadata": {},
   "outputs": [],
   "source": [
    "pd.DataFrame(df_subset.Ejectment.value_counts())"
   ]
  },
  {
   "cell_type": "code",
   "execution_count": null,
   "id": "e249b15a",
   "metadata": {},
   "outputs": [],
   "source": [
    "postal_codes = df_subset.Eviction_Postcode.unique()\n",
    "len(postal_codes)"
   ]
  },
  {
   "cell_type": "code",
   "execution_count": null,
   "id": "1ca047f0",
   "metadata": {
    "scrolled": false
   },
   "outputs": [],
   "source": [
    "top_postal_codes = df_subset.Eviction_Postcode.value_counts().head(10)\n",
    "pd.DataFrame(top_postal_codes)"
   ]
  },
  {
   "cell_type": "code",
   "execution_count": null,
   "id": "8ef08ed3",
   "metadata": {},
   "outputs": [],
   "source": []
  }
 ],
 "metadata": {
  "kernelspec": {
   "display_name": "Python 3 (ipykernel)",
   "language": "python",
   "name": "python3"
  },
  "language_info": {
   "codemirror_mode": {
    "name": "ipython",
    "version": 3
   },
   "file_extension": ".py",
   "mimetype": "text/x-python",
   "name": "python",
   "nbconvert_exporter": "python",
   "pygments_lexer": "ipython3",
   "version": "3.9.12"
  }
 },
 "nbformat": 4,
 "nbformat_minor": 5
}
